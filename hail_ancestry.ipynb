{
 "cells": [
  {
   "cell_type": "code",
   "execution_count": null,
   "id": "31cc2574",
   "metadata": {},
   "outputs": [
    {
     "data": {
      "text/html": [
       "    <style>\n",
       "        .bk-notebook-logo {\n",
       "            display: block;\n",
       "            width: 20px;\n",
       "            height: 20px;\n",
       "            background-image: url(data:image/png;base64,iVBORw0KGgoAAAANSUhEUgAAABQAAAAUCAYAAACNiR0NAAAABHNCSVQICAgIfAhkiAAAAAlwSFlzAAALEgAACxIB0t1+/AAAABx0RVh0U29mdHdhcmUAQWRvYmUgRmlyZXdvcmtzIENTNui8sowAAAOkSURBVDiNjZRtaJVlGMd/1/08zzln5zjP1LWcU9N0NkN8m2CYjpgQYQXqSs0I84OLIC0hkEKoPtiH3gmKoiJDU7QpLgoLjLIQCpEsNJ1vqUOdO7ppbuec5+V+rj4ctwzd8IIbbi6u+8f1539dt3A78eXC7QizUF7gyV1fD1Yqg4JWz84yffhm0qkFqBogB9rM8tZdtwVsPUhWhGcFJngGeWrPzHm5oaMmkfEg1usvLFyc8jLRqDOMru7AyC8saQr7GG7f5fvDeH7Ej8CM66nIF+8yngt6HWaKh7k49Soy9nXurCi1o3qUbS3zWfrYeQDTB/Qj6kX6Ybhw4B+bOYoLKCC9H3Nu/leUTZ1JdRWkkn2ldcCamzrcf47KKXdAJllSlxAOkRgyHsGC/zRday5Qld9DyoM4/q/rUoy/CXh3jzOu3bHUVZeU+DEn8FInkPBFlu3+nW3Nw0mk6vCDiWg8CeJaxEwuHS3+z5RgY+YBR6V1Z1nxSOfoaPa4LASWxxdNp+VWTk7+4vzaou8v8PN+xo+KY2xsw6une2frhw05CTYOmQvsEhjhWjn0bmXPjpE1+kplmmkP3suftwTubK9Vq22qKmrBhpY4jvd5afdRA3wGjFAgcnTK2s4hY0/GPNIb0nErGMCRxWOOX64Z8RAC4oCXdklmEvcL8o0BfkNK4lUg9HTl+oPlQxdNo3Mg4Nv175e/1LDGzZen30MEjRUtmXSfiTVu1kK8W4txyV6BMKlbgk3lMwYCiusNy9fVfvvwMxv8Ynl6vxoByANLTWplvuj/nF9m2+PDtt1eiHPBr1oIfhCChQMBw6Aw0UulqTKZdfVvfG7VcfIqLG9bcldL/+pdWTLxLUy8Qq38heUIjh4XlzZxzQm19lLFlr8vdQ97rjZVOLf8nclzckbcD4wxXMidpX30sFd37Fv/GtwwhzhxGVAprjbg0gCAEeIgwCZyTV2Z1REEW8O4py0wsjeloKoMr6iCY6dP92H6Vw/oTyICIthibxjm/DfN9lVz8IqtqKYLUXfoKVMVQVVJOElGjrnnUt9T9wbgp8AyYKaGlqingHZU/uG2NTZSVqwHQTWkx9hxjkpWDaCg6Ckj5qebgBVbT3V3NNXMSiWSDdGV3hrtzla7J+duwPOToIg42ChPQOQjspnSlp1V+Gjdged7+8UN5CRAV7a5EdFNwCjEaBR27b3W890TE7g24NAP/mMDXRWrGoFPQI9ls/MWO2dWFAar/xcOIImbbpA3zgAAAABJRU5ErkJggg==);\n",
       "        }\n",
       "    </style>\n",
       "    <div>\n",
       "        <a href=\"https://bokeh.org\" target=\"_blank\" class=\"bk-notebook-logo\"></a>\n",
       "        <span id=\"bbc35aba-93ed-430b-904e-13a6fa94ff55\">Loading BokehJS ...</span>\n",
       "    </div>\n"
      ]
     },
     "metadata": {},
     "output_type": "display_data"
    },
    {
     "data": {
      "application/javascript": "'use strict';\n(function(root) {\n  function now() {\n    return new Date();\n  }\n\n  const force = true;\n\n  if (typeof root._bokeh_onload_callbacks === \"undefined\" || force === true) {\n    root._bokeh_onload_callbacks = [];\n    root._bokeh_is_loading = undefined;\n  }\n\nconst JS_MIME_TYPE = 'application/javascript';\n  const HTML_MIME_TYPE = 'text/html';\n  const EXEC_MIME_TYPE = 'application/vnd.bokehjs_exec.v0+json';\n  const CLASS_NAME = 'output_bokeh rendered_html';\n\n  /**\n   * Render data to the DOM node\n   */\n  function render(props, node) {\n    const script = document.createElement(\"script\");\n    node.appendChild(script);\n  }\n\n  /**\n   * Handle when an output is cleared or removed\n   */\n  function handleClearOutput(event, handle) {\n    function drop(id) {\n      const view = Bokeh.index.get_by_id(id)\n      if (view != null) {\n        view.model.document.clear()\n        Bokeh.index.delete(view)\n      }\n    }\n\n    const cell = handle.cell;\n\n    const id = cell.output_area._bokeh_element_id;\n    const server_id = cell.output_area._bokeh_server_id;\n\n    // Clean up Bokeh references\n    if (id != null) {\n      drop(id)\n    }\n\n    if (server_id !== undefined) {\n      // Clean up Bokeh references\n      const cmd_clean = \"from bokeh.io.state import curstate; print(curstate().uuid_to_server['\" + server_id + \"'].get_sessions()[0].document.roots[0]._id)\";\n      cell.notebook.kernel.execute(cmd_clean, {\n        iopub: {\n          output: function(msg) {\n            const id = msg.content.text.trim()\n            drop(id)\n          }\n        }\n      });\n      // Destroy server and session\n      const cmd_destroy = \"import bokeh.io.notebook as ion; ion.destroy_server('\" + server_id + \"')\";\n      cell.notebook.kernel.execute(cmd_destroy);\n    }\n  }\n\n  /**\n   * Handle when a new output is added\n   */\n  function handleAddOutput(event, handle) {\n    const output_area = handle.output_area;\n    const output = handle.output;\n\n    // limit handleAddOutput to display_data with EXEC_MIME_TYPE content only\n    if ((output.output_type != \"display_data\") || (!Object.prototype.hasOwnProperty.call(output.data, EXEC_MIME_TYPE))) {\n      return\n    }\n\n    const toinsert = output_area.element.find(\".\" + CLASS_NAME.split(' ')[0]);\n\n    if (output.metadata[EXEC_MIME_TYPE][\"id\"] !== undefined) {\n      toinsert[toinsert.length - 1].firstChild.textContent = output.data[JS_MIME_TYPE];\n      // store reference to embed id on output_area\n      output_area._bokeh_element_id = output.metadata[EXEC_MIME_TYPE][\"id\"];\n    }\n    if (output.metadata[EXEC_MIME_TYPE][\"server_id\"] !== undefined) {\n      const bk_div = document.createElement(\"div\");\n      bk_div.innerHTML = output.data[HTML_MIME_TYPE];\n      const script_attrs = bk_div.children[0].attributes;\n      for (let i = 0; i < script_attrs.length; i++) {\n        toinsert[toinsert.length - 1].firstChild.setAttribute(script_attrs[i].name, script_attrs[i].value);\n        toinsert[toinsert.length - 1].firstChild.textContent = bk_div.children[0].textContent\n      }\n      // store reference to server id on output_area\n      output_area._bokeh_server_id = output.metadata[EXEC_MIME_TYPE][\"server_id\"];\n    }\n  }\n\n  function register_renderer(events, OutputArea) {\n\n    function append_mime(data, metadata, element) {\n      // create a DOM node to render to\n      const toinsert = this.create_output_subarea(\n        metadata,\n        CLASS_NAME,\n        EXEC_MIME_TYPE\n      );\n      this.keyboard_manager.register_events(toinsert);\n      // Render to node\n      const props = {data: data, metadata: metadata[EXEC_MIME_TYPE]};\n      render(props, toinsert[toinsert.length - 1]);\n      element.append(toinsert);\n      return toinsert\n    }\n\n    /* Handle when an output is cleared or removed */\n    events.on('clear_output.CodeCell', handleClearOutput);\n    events.on('delete.Cell', handleClearOutput);\n\n    /* Handle when a new output is added */\n    events.on('output_added.OutputArea', handleAddOutput);\n\n    /**\n     * Register the mime type and append_mime function with output_area\n     */\n    OutputArea.prototype.register_mime_type(EXEC_MIME_TYPE, append_mime, {\n      /* Is output safe? */\n      safe: true,\n      /* Index of renderer in `output_area.display_order` */\n      index: 0\n    });\n  }\n\n  // register the mime type if in Jupyter Notebook environment and previously unregistered\n  if (root.Jupyter !== undefined) {\n    const events = require('base/js/events');\n    const OutputArea = require('notebook/js/outputarea').OutputArea;\n\n    if (OutputArea.prototype.mime_types().indexOf(EXEC_MIME_TYPE) == -1) {\n      register_renderer(events, OutputArea);\n    }\n  }\n  if (typeof (root._bokeh_timeout) === \"undefined\" || force === true) {\n    root._bokeh_timeout = Date.now() + 5000;\n    root._bokeh_failed_load = false;\n  }\n\n  const NB_LOAD_WARNING = {'data': {'text/html':\n     \"<div style='background-color: #fdd'>\\n\"+\n     \"<p>\\n\"+\n     \"BokehJS does not appear to have successfully loaded. If loading BokehJS from CDN, this \\n\"+\n     \"may be due to a slow or bad network connection. Possible fixes:\\n\"+\n     \"</p>\\n\"+\n     \"<ul>\\n\"+\n     \"<li>re-rerun `output_notebook()` to attempt to load from CDN again, or</li>\\n\"+\n     \"<li>use INLINE resources instead, as so:</li>\\n\"+\n     \"</ul>\\n\"+\n     \"<code>\\n\"+\n     \"from bokeh.resources import INLINE\\n\"+\n     \"output_notebook(resources=INLINE)\\n\"+\n     \"</code>\\n\"+\n     \"</div>\"}};\n\n  function display_loaded(error = null) {\n    const el = document.getElementById(\"bbc35aba-93ed-430b-904e-13a6fa94ff55\");\n    if (el != null) {\n      const html = (() => {\n        if (typeof root.Bokeh === \"undefined\") {\n          if (error == null) {\n            return \"BokehJS is loading ...\";\n          } else {\n            return \"BokehJS failed to load.\";\n          }\n        } else {\n          const prefix = `BokehJS ${root.Bokeh.version}`;\n          if (error == null) {\n            return `${prefix} successfully loaded.`;\n          } else {\n            return `${prefix} <b>encountered errors</b> while loading and may not function as expected.`;\n          }\n        }\n      })();\n      el.innerHTML = html;\n\n      if (error != null) {\n        const wrapper = document.createElement(\"div\");\n        wrapper.style.overflow = \"auto\";\n        wrapper.style.height = \"5em\";\n        wrapper.style.resize = \"vertical\";\n        const content = document.createElement(\"div\");\n        content.style.fontFamily = \"monospace\";\n        content.style.whiteSpace = \"pre-wrap\";\n        content.style.backgroundColor = \"rgb(255, 221, 221)\";\n        content.textContent = error.stack ?? error.toString();\n        wrapper.append(content);\n        el.append(wrapper);\n      }\n    } else if (Date.now() < root._bokeh_timeout) {\n      setTimeout(() => display_loaded(error), 100);\n    }\n  }\n\n  function run_callbacks() {\n    try {\n      root._bokeh_onload_callbacks.forEach(function(callback) {\n        if (callback != null)\n          callback();\n      });\n    } finally {\n      delete root._bokeh_onload_callbacks\n    }\n    console.debug(\"Bokeh: all callbacks have finished\");\n  }\n\n  function load_libs(css_urls, js_urls, callback) {\n    if (css_urls == null) css_urls = [];\n    if (js_urls == null) js_urls = [];\n\n    root._bokeh_onload_callbacks.push(callback);\n    if (root._bokeh_is_loading > 0) {\n      console.debug(\"Bokeh: BokehJS is being loaded, scheduling callback at\", now());\n      return null;\n    }\n    if (js_urls == null || js_urls.length === 0) {\n      run_callbacks();\n      return null;\n    }\n    console.debug(\"Bokeh: BokehJS not loaded, scheduling load and callback at\", now());\n    root._bokeh_is_loading = css_urls.length + js_urls.length;\n\n    function on_load() {\n      root._bokeh_is_loading--;\n      if (root._bokeh_is_loading === 0) {\n        console.debug(\"Bokeh: all BokehJS libraries/stylesheets loaded\");\n        run_callbacks()\n      }\n    }\n\n    function on_error(url) {\n      console.error(\"failed to load \" + url);\n    }\n\n    for (let i = 0; i < css_urls.length; i++) {\n      const url = css_urls[i];\n      const element = document.createElement(\"link\");\n      element.onload = on_load;\n      element.onerror = on_error.bind(null, url);\n      element.rel = \"stylesheet\";\n      element.type = \"text/css\";\n      element.href = url;\n      console.debug(\"Bokeh: injecting link tag for BokehJS stylesheet: \", url);\n      document.body.appendChild(element);\n    }\n\n    for (let i = 0; i < js_urls.length; i++) {\n      const url = js_urls[i];\n      const element = document.createElement('script');\n      element.onload = on_load;\n      element.onerror = on_error.bind(null, url);\n      element.async = false;\n      element.src = url;\n      console.debug(\"Bokeh: injecting script tag for BokehJS library: \", url);\n      document.head.appendChild(element);\n    }\n  };\n\n  function inject_raw_css(css) {\n    const element = document.createElement(\"style\");\n    element.appendChild(document.createTextNode(css));\n    document.body.appendChild(element);\n  }\n\n  const js_urls = [\"https://cdn.bokeh.org/bokeh/release/bokeh-3.4.3.min.js\", \"https://cdn.bokeh.org/bokeh/release/bokeh-gl-3.4.3.min.js\", \"https://cdn.bokeh.org/bokeh/release/bokeh-widgets-3.4.3.min.js\", \"https://cdn.bokeh.org/bokeh/release/bokeh-tables-3.4.3.min.js\", \"https://cdn.bokeh.org/bokeh/release/bokeh-mathjax-3.4.3.min.js\"];\n  const css_urls = [];\n\n  const inline_js = [    function(Bokeh) {\n      Bokeh.set_log_level(\"info\");\n    },\nfunction(Bokeh) {\n    }\n  ];\n\n  function run_inline_js() {\n    if (root.Bokeh !== undefined || force === true) {\n      try {\n            for (let i = 0; i < inline_js.length; i++) {\n      inline_js[i].call(root, root.Bokeh);\n    }\n\n      } catch (error) {display_loaded(error);throw error;\n      }if (force === true) {\n        display_loaded();\n      }} else if (Date.now() < root._bokeh_timeout) {\n      setTimeout(run_inline_js, 100);\n    } else if (!root._bokeh_failed_load) {\n      console.log(\"Bokeh: BokehJS failed to load within specified timeout.\");\n      root._bokeh_failed_load = true;\n    } else if (force !== true) {\n      const cell = $(document.getElementById(\"bbc35aba-93ed-430b-904e-13a6fa94ff55\")).parents('.cell').data().cell;\n      cell.output_area.append_execute_result(NB_LOAD_WARNING)\n    }\n  }\n\n  if (root._bokeh_is_loading === 0) {\n    console.debug(\"Bokeh: BokehJS loaded, going straight to plotting\");\n    run_inline_js();\n  } else {\n    load_libs(css_urls, js_urls, function() {\n      console.debug(\"Bokeh: BokehJS plotting callback run at\", now());\n      run_inline_js();\n    });\n  }\n}(window));",
      "application/vnd.bokehjs_load.v0+json": ""
     },
     "metadata": {},
     "output_type": "display_data"
    },
    {
     "name": "stderr",
     "output_type": "stream",
     "text": [
      "/Users/pine/miniforge3/envs/spark/lib/python3.9/site-packages/hail/context.py:350: UserWarning:\n",
      "\n",
      "Using hl.init with a default_reference argument is deprecated. To set a default reference genome after initializing hail, call `hl.default_reference` with an argument to set the default reference genome.\n",
      "\n",
      "Running on Apache Spark version 3.5.5\n",
      "SparkUI available at http://10.203.123.237:4040\n",
      "Welcome to\n",
      "     __  __     <>__\n",
      "    / /_/ /__  __/ /\n",
      "   / __  / _ `/ / /\n",
      "  /_/ /_/\\_,_/_/_/   version 0.2.134-952ae203dbbe\n",
      "LOGGING: writing to /Users/pine/Desktop/trgn516/ances_stuff/hail-20250408-1252-0.2.134-952ae203dbbe.log\n"
     ]
    },
    {
     "name": "stderr",
     "output_type": "stream",
     "text": [
      "2025-04-08 12:52:33.815 Hail: WARN: cols(): Resulting column table is sorted by 'col_key'.\n",
      "    To preserve matrix table column order, first unkey columns with 'key_cols_by()'\n",
      "2025-04-08 12:52:37.297 Hail: INFO: scanning VCF for sortedness...\n",
      "2025-04-08 12:52:39.322 Hail: INFO: Coerced prefix-sorted VCF, requiring additional sorting within data partitions on each query.\n",
      "2025-04-08 12:52:46.622 Hail: INFO: Coerced sorted dataset\n",
      "2025-04-08 12:53:33.170 Hail: INFO: Coerced sorted dataset\n",
      "2025-04-08 12:57:58.437 Hail: INFO: Coerced sorted dataset\n",
      "2025-04-08 13:03:07.601 Hail: INFO: Coerced sorted dataset\n",
      "2025-04-08 13:03:29.698 Hail: INFO: Coerced sorted dataset\n",
      "2025-04-08 13:11:14.688 Hail: INFO: Coerced sorted dataset\n",
      "2025-04-08 13:11:24.493 Hail: INFO: Coerced sorted dataset\n",
      "2025-04-08 13:11:34.481 Hail: INFO: Coerced sorted dataset\n",
      "2025-04-08 13:11:44.824 Hail: INFO: Coerced sorted dataset\n",
      "2025-04-08 13:34:08.816 Hail: INFO: Coerced sorted dataset\n"
     ]
    }
   ],
   "source": [
    "import hail as hl\n",
    "hl.init(default_reference='GRCh38')"
   ]
  },
  {
   "cell_type": "code",
   "execution_count": 24,
   "id": "e749431c",
   "metadata": {},
   "outputs": [
    {
     "name": "stdout",
     "output_type": "stream",
     "text": [
      "----------------------------------------\n",
      "Global fields:\n",
      "    None\n",
      "----------------------------------------\n",
      "Row fields:\n",
      "    'locus': locus<GRCh38> \n",
      "    'alleles': array<str> \n",
      "    'loadings': array<float64> \n",
      "    'pca_af': float64 \n",
      "----------------------------------------\n",
      "Key: ['locus', 'alleles']\n",
      "----------------------------------------\n",
      "----------------------------------------\n",
      "Global fields:\n",
      "    None\n",
      "----------------------------------------\n",
      "Column fields:\n",
      "    's': str\n",
      "----------------------------------------\n",
      "Row fields:\n",
      "    'locus': locus<GRCh38>\n",
      "    'alleles': array<str>\n",
      "    'rsid': str\n",
      "    'qual': float64\n",
      "    'filters': set<str>\n",
      "    'info': struct {\n",
      "        BLOCKAVG_min30p3a: bool, \n",
      "        CIGAR: array<str>, \n",
      "        END: int32, \n",
      "        IDREP: array<int32>, \n",
      "        MQ: float64, \n",
      "        REFREP: array<int32>, \n",
      "        RU: array<str>, \n",
      "        SNVHPOL: int32\n",
      "    }\n",
      "----------------------------------------\n",
      "Entry fields:\n",
      "    'AD': array<int32>\n",
      "    'ADF': array<int32>\n",
      "    'ADR': array<int32>\n",
      "    'DP': int32\n",
      "    'DPF': int32\n",
      "    'DPI': int32\n",
      "    'FT': array<str>\n",
      "    'GQ': int32\n",
      "    'GQX': int32\n",
      "    'GT': call\n",
      "    'MIN_DP': int32\n",
      "    'PL': array<int32>\n",
      "    'PS': int32\n",
      "    'SB': float64\n",
      "----------------------------------------\n",
      "Column key: ['s']\n",
      "Row key: ['locus', 'alleles']\n",
      "----------------------------------------\n"
     ]
    }
   ],
   "source": [
    "pca_loadings = hl.read_table(\"/Users/pine/Desktop/trgn516/ances_stuff/pca_loading/gnomad.v4.0.pca_loadings.ht\")\n",
    "sarek_mt = hl.import_vcf(\"/Users/pine/Desktop/trgn516/ances_stuff/normal_1.strelka.variants.vcf\", reference_genome='GRCh38', array_elements_required=False)\n",
    "pca_loadings.describe()\n",
    "sarek_mt.describe()"
   ]
  },
  {
   "cell_type": "code",
   "execution_count": null,
   "id": "6a53461c",
   "metadata": {},
   "outputs": [],
   "source": [
    "### DO NOT run this cell\n",
    "# Different ref version, need to Liftover from hg19 to GRCh38\n",
    "# download from gs\n",
    "# gsutil cp gs://hail-common/references/grch37_to_grch38.over.chain.gz .\n",
    "\n",
    "#rg37 = hl.get_reference('GRCh37')  \n",
    "#rg38 = hl.get_reference('GRCh38')  \n",
    "\n",
    "# need to comment this line after one use if you need to rerun cell after encountering an error\n",
    "#rg37.add_liftover('/Users/pine/Desktop/trgn516/ances_stuff/grch37_to_grch38.over.chain.gz', rg38)  \n",
    "\n",
    "#sarek_mt_hg38 = sarek_mt.annotate_rows(new_locus=hl.liftover(sarek_mt.locus, 'GRCh38'))  \n",
    "#sarek_mt_hg38 = sarek_mt_hg38.filter_rows(hl.is_defined(sarek_mt_hg38.new_locus))\n",
    "#sarek_mt_hg38 = sarek_mt_hg38.key_rows_by(locus=sarek_mt_hg38.new_locus, alleles=sarek_mt_hg38.alleles) \n"
   ]
  },
  {
   "cell_type": "code",
   "execution_count": null,
   "id": "00356af3",
   "metadata": {},
   "outputs": [],
   "source": [
    "# if you wish to see detail information run this cell\n",
    "#sarek_mt.summarize()\n",
    "#pca_loadings.summarize()"
   ]
  },
  {
   "cell_type": "code",
   "execution_count": 3,
   "id": "03ace8db-9ca7-488b-ba9f-a2a9d64c21e1",
   "metadata": {},
   "outputs": [],
   "source": [
    "import onnx\n",
    "from gnomad.sample_qc.ancestry import (\n",
    "    apply_onnx_classification_model,\n",
    "    assign_population_pcs,\n",
    ")\n",
    "from gnomad.utils.filtering import filter_to_adj\n",
    "from gnomad_qc.v4.resources.basics import get_checkpoint_path\n",
    "\n",
    "onnx_rf = \"/Users/pine/Desktop/trgn516/ances_stuff/gnomad.v4.0.RF_fit.onnx\"\n",
    "\n",
    "with hl.hadoop_open(onnx_rf, \"rb\") as f:\n",
    "    onx_fit = onnx.load(f)\n",
    "\n",
    "\n",
    "pcs = hl.experimental.pc_project(sarek_mt.GT, pca_loadings.loadings, pca_loadings.pca_af)"
   ]
  },
  {
   "cell_type": "code",
   "execution_count": null,
   "id": "009eca80",
   "metadata": {},
   "outputs": [
    {
     "name": "stderr",
     "output_type": "stream",
     "text": [
      "INFO (gnomad.sample_qc.ancestry 371): Found the following sample count after population assignment: nfe: 1\n"
     ]
    },
    {
     "data": {
      "text/plain": [
       "{'nfe': 1}"
      ]
     },
     "execution_count": 18,
     "metadata": {},
     "output_type": "execute_result"
    }
   ],
   "source": [
    "ht, model = assign_population_pcs(\n",
    "    pcs,\n",
    "    pc_cols=pcs.scores[:20], # define number of pc, depend on the loaded model\n",
    "    fit=onx_fit,\n",
    "    # Using a low min_prob (like 0.01) is permissive: almost everyone gets a label. \n",
    "    # High values (e.g. 0.9) are conservative: only very confident calls are made.\n",
    "    min_prob=0.01, \n",
    "    apply_model_func=apply_onnx_classification_model,\n",
    ")\n",
    "\n",
    "\n",
    "ht.aggregate(hl.agg.counter(ht.pop))"
   ]
  },
  {
   "cell_type": "code",
   "execution_count": 14,
   "id": "1bfd1832",
   "metadata": {},
   "outputs": [
    {
     "name": "stdout",
     "output_type": "stream",
     "text": [
      "----------------------------------------\n",
      "Global fields:\n",
      "    'assign_pops_from_pc_params': struct {\n",
      "        min_assignment_prob: float64\n",
      "    } \n",
      "----------------------------------------\n",
      "Row fields:\n",
      "    's': str \n",
      "    'pca_scores': array<float64> \n",
      "    'pop': str \n",
      "    'prob_afr': float64 \n",
      "    'prob_ami': float64 \n",
      "    'prob_amr': float64 \n",
      "    'prob_asj': float64 \n",
      "    'prob_eas': float64 \n",
      "    'prob_fin': float64 \n",
      "    'prob_mid': float64 \n",
      "    'prob_nfe': float64 \n",
      "    'prob_sas': float64 \n",
      "----------------------------------------\n",
      "Key: ['s']\n",
      "----------------------------------------\n"
     ]
    },
    {
     "data": {
      "text/html": [
       "<p>1 records.</p><ul><li><b>s</b> (<i>str</i>):<ul><table><tbody><tr><td>Non-missing</td><td>1 (100.00%)</td></tr><tr><td>Missing</td><td>0</td></tr><tr><td>Min Size</td><td>17</td></tr><tr><td>Max Size</td><td>17</td></tr><tr><td>Mean Size</td><td>17.00</td></tr><tr><td>Sample Values</td><td>[&#x27;patient1_normal_1&#x27;]</td></tr></tbody></table></ul></li><li><b>pca_scores</b> (<i>array&lt;float64&gt;</i>):<ul><table><tbody><tr><td>Non-missing</td><td>1 (100.00%)</td></tr><tr><td>Missing</td><td>0</td></tr><tr><td>Min Size</td><td>20</td></tr><tr><td>Max Size</td><td>20</td></tr><tr><td>Mean Size</td><td>20.00</td></tr></tbody></table><li><b>pca_scores[&lt;elements&gt;]</b> (<i>float64</i>):<ul><table><tbody><tr><td>Non-missing</td><td>20 (100.00%)</td></tr><tr><td>Missing</td><td>0</td></tr><tr><td>Minimum</td><td>-0.02</td></tr><tr><td>Maximum</td><td>0.02</td></tr><tr><td>Mean</td><td>-0.00</td></tr><tr><td>Std Dev</td><td>0.01</td></tr></tbody></table></ul></li></ul></li><li><b>pop</b> (<i>str</i>):<ul><table><tbody><tr><td>Non-missing</td><td>1 (100.00%)</td></tr><tr><td>Missing</td><td>0</td></tr><tr><td>Min Size</td><td>3</td></tr><tr><td>Max Size</td><td>3</td></tr><tr><td>Mean Size</td><td>3.00</td></tr><tr><td>Sample Values</td><td>[&#x27;nfe&#x27;]</td></tr></tbody></table></ul></li><li><b>prob_afr</b> (<i>float64</i>):<ul><table><tbody><tr><td>Non-missing</td><td>1 (100.00%)</td></tr><tr><td>Missing</td><td>0</td></tr><tr><td>Minimum</td><td>0.04</td></tr><tr><td>Maximum</td><td>0.04</td></tr><tr><td>Mean</td><td>0.04</td></tr><tr><td>Std Dev</td><td>0.00</td></tr></tbody></table></ul></li><li><b>prob_ami</b> (<i>float64</i>):<ul><table><tbody><tr><td>Non-missing</td><td>1 (100.00%)</td></tr><tr><td>Missing</td><td>0</td></tr><tr><td>Minimum</td><td>0.01</td></tr><tr><td>Maximum</td><td>0.01</td></tr><tr><td>Mean</td><td>0.01</td></tr><tr><td>Std Dev</td><td>0.00</td></tr></tbody></table></ul></li><li><b>prob_amr</b> (<i>float64</i>):<ul><table><tbody><tr><td>Non-missing</td><td>1 (100.00%)</td></tr><tr><td>Missing</td><td>0</td></tr><tr><td>Minimum</td><td>0.06</td></tr><tr><td>Maximum</td><td>0.06</td></tr><tr><td>Mean</td><td>0.06</td></tr><tr><td>Std Dev</td><td>0.00</td></tr></tbody></table></ul></li><li><b>prob_asj</b> (<i>float64</i>):<ul><table><tbody><tr><td>Non-missing</td><td>1 (100.00%)</td></tr><tr><td>Missing</td><td>0</td></tr><tr><td>Minimum</td><td>0.12</td></tr><tr><td>Maximum</td><td>0.12</td></tr><tr><td>Mean</td><td>0.12</td></tr><tr><td>Std Dev</td><td>0.00</td></tr></tbody></table></ul></li><li><b>prob_eas</b> (<i>float64</i>):<ul><table><tbody><tr><td>Non-missing</td><td>1 (100.00%)</td></tr><tr><td>Missing</td><td>0</td></tr><tr><td>Minimum</td><td>0.03</td></tr><tr><td>Maximum</td><td>0.03</td></tr><tr><td>Mean</td><td>0.03</td></tr><tr><td>Std Dev</td><td>0.00</td></tr></tbody></table></ul></li><li><b>prob_fin</b> (<i>float64</i>):<ul><table><tbody><tr><td>Non-missing</td><td>1 (100.00%)</td></tr><tr><td>Missing</td><td>0</td></tr><tr><td>Minimum</td><td>0.02</td></tr><tr><td>Maximum</td><td>0.02</td></tr><tr><td>Mean</td><td>0.02</td></tr><tr><td>Std Dev</td><td>0.00</td></tr></tbody></table></ul></li><li><b>prob_mid</b> (<i>float64</i>):<ul><table><tbody><tr><td>Non-missing</td><td>1 (100.00%)</td></tr><tr><td>Missing</td><td>0</td></tr><tr><td>Minimum</td><td>0.01</td></tr><tr><td>Maximum</td><td>0.01</td></tr><tr><td>Mean</td><td>0.01</td></tr><tr><td>Std Dev</td><td>0.00</td></tr></tbody></table></ul></li><li><b>prob_nfe</b> (<i>float64</i>):<ul><table><tbody><tr><td>Non-missing</td><td>1 (100.00%)</td></tr><tr><td>Missing</td><td>0</td></tr><tr><td>Minimum</td><td>0.69</td></tr><tr><td>Maximum</td><td>0.69</td></tr><tr><td>Mean</td><td>0.69</td></tr><tr><td>Std Dev</td><td>0.00</td></tr></tbody></table></ul></li><li><b>prob_sas</b> (<i>float64</i>):<ul><table><tbody><tr><td>Non-missing</td><td>1 (100.00%)</td></tr><tr><td>Missing</td><td>0</td></tr><tr><td>Minimum</td><td>0.02</td></tr><tr><td>Maximum</td><td>0.02</td></tr><tr><td>Mean</td><td>0.02</td></tr><tr><td>Std Dev</td><td>0.00</td></tr></tbody></table></ul></li></ul>"
      ],
      "text/plain": [
       "\n",
       "1 records.\n",
       "\n",
       "  - s (str):\n",
       "      Non-missing: 1 (100.00%)\n",
       "          Missing: 0\n",
       "         Min Size: 17\n",
       "         Max Size: 17\n",
       "        Mean Size: 17.00\n",
       "    Sample Values: ['patient1_normal_1']\n",
       "\n",
       "  - pca_scores (array<float64>):\n",
       "    Non-missing: 1 (100.00%)\n",
       "        Missing: 0\n",
       "       Min Size: 20\n",
       "       Max Size: 20\n",
       "      Mean Size: 20.00\n",
       "\n",
       "    - pca_scores[<elements>] (float64):\n",
       "      Non-missing: 20 (100.00%)\n",
       "          Missing: 0\n",
       "          Minimum: -0.02\n",
       "          Maximum: 0.02\n",
       "             Mean: -0.00\n",
       "          Std Dev: 0.01\n",
       "\n",
       "  - pop (str):\n",
       "      Non-missing: 1 (100.00%)\n",
       "          Missing: 0\n",
       "         Min Size: 3\n",
       "         Max Size: 3\n",
       "        Mean Size: 3.00\n",
       "    Sample Values: ['nfe']\n",
       "\n",
       "  - prob_afr (float64):\n",
       "    Non-missing: 1 (100.00%)\n",
       "        Missing: 0\n",
       "        Minimum: 0.04\n",
       "        Maximum: 0.04\n",
       "           Mean: 0.04\n",
       "        Std Dev: 0.00\n",
       "\n",
       "  - prob_ami (float64):\n",
       "    Non-missing: 1 (100.00%)\n",
       "        Missing: 0\n",
       "        Minimum: 0.01\n",
       "        Maximum: 0.01\n",
       "           Mean: 0.01\n",
       "        Std Dev: 0.00\n",
       "\n",
       "  - prob_amr (float64):\n",
       "    Non-missing: 1 (100.00%)\n",
       "        Missing: 0\n",
       "        Minimum: 0.06\n",
       "        Maximum: 0.06\n",
       "           Mean: 0.06\n",
       "        Std Dev: 0.00\n",
       "\n",
       "  - prob_asj (float64):\n",
       "    Non-missing: 1 (100.00%)\n",
       "        Missing: 0\n",
       "        Minimum: 0.12\n",
       "        Maximum: 0.12\n",
       "           Mean: 0.12\n",
       "        Std Dev: 0.00\n",
       "\n",
       "  - prob_eas (float64):\n",
       "    Non-missing: 1 (100.00%)\n",
       "        Missing: 0\n",
       "        Minimum: 0.03\n",
       "        Maximum: 0.03\n",
       "           Mean: 0.03\n",
       "        Std Dev: 0.00\n",
       "\n",
       "  - prob_fin (float64):\n",
       "    Non-missing: 1 (100.00%)\n",
       "        Missing: 0\n",
       "        Minimum: 0.02\n",
       "        Maximum: 0.02\n",
       "           Mean: 0.02\n",
       "        Std Dev: 0.00\n",
       "\n",
       "  - prob_mid (float64):\n",
       "    Non-missing: 1 (100.00%)\n",
       "        Missing: 0\n",
       "        Minimum: 0.01\n",
       "        Maximum: 0.01\n",
       "           Mean: 0.01\n",
       "        Std Dev: 0.00\n",
       "\n",
       "  - prob_nfe (float64):\n",
       "    Non-missing: 1 (100.00%)\n",
       "        Missing: 0\n",
       "        Minimum: 0.69\n",
       "        Maximum: 0.69\n",
       "           Mean: 0.69\n",
       "        Std Dev: 0.00\n",
       "\n",
       "  - prob_sas (float64):\n",
       "    Non-missing: 1 (100.00%)\n",
       "        Missing: 0\n",
       "        Minimum: 0.02\n",
       "        Maximum: 0.02\n",
       "           Mean: 0.02\n",
       "        Std Dev: 0.00"
      ]
     },
     "metadata": {},
     "output_type": "display_data"
    },
    {
     "data": {
      "text/html": [
       "<table><thead><tr><td style=\"white-space: nowrap; max-width: 500px; overflow: hidden; text-overflow: ellipsis; \" colspan=\"1\"><div style=\"text-align: left;\"></div></td><td style=\"white-space: nowrap; max-width: 500px; overflow: hidden; text-overflow: ellipsis; \" colspan=\"1\"><div style=\"text-align: left;\"></div></td><td style=\"white-space: nowrap; max-width: 500px; overflow: hidden; text-overflow: ellipsis; \" colspan=\"1\"><div style=\"text-align: left;\"></div></td><td style=\"white-space: nowrap; max-width: 500px; overflow: hidden; text-overflow: ellipsis; \" colspan=\"1\"><div style=\"text-align: left;\"></div></td><td style=\"white-space: nowrap; max-width: 500px; overflow: hidden; text-overflow: ellipsis; \" colspan=\"1\"><div style=\"text-align: left;\"></div></td><td style=\"white-space: nowrap; max-width: 500px; overflow: hidden; text-overflow: ellipsis; \" colspan=\"1\"><div style=\"text-align: left;\"></div></td><td style=\"white-space: nowrap; max-width: 500px; overflow: hidden; text-overflow: ellipsis; \" colspan=\"1\"><div style=\"text-align: left;\"></div></td><td style=\"white-space: nowrap; max-width: 500px; overflow: hidden; text-overflow: ellipsis; \" colspan=\"1\"><div style=\"text-align: left;\"></div></td><td style=\"white-space: nowrap; max-width: 500px; overflow: hidden; text-overflow: ellipsis; \" colspan=\"1\"><div style=\"text-align: left;\"></div></td><td style=\"white-space: nowrap; max-width: 500px; overflow: hidden; text-overflow: ellipsis; \" colspan=\"1\"><div style=\"text-align: left;\"></div></td><td style=\"white-space: nowrap; max-width: 500px; overflow: hidden; text-overflow: ellipsis; \" colspan=\"1\"><div style=\"text-align: left;\"></div></td><td style=\"white-space: nowrap; max-width: 500px; overflow: hidden; text-overflow: ellipsis; \" colspan=\"1\"><div style=\"text-align: left;\"></div></td></tr><tr><td style=\"white-space: nowrap; max-width: 500px; overflow: hidden; text-overflow: ellipsis; \" colspan=\"1\"><div style=\"text-align: left;border-bottom: solid 2px #000; padding-bottom: 5px\">s</div></td><td style=\"white-space: nowrap; max-width: 500px; overflow: hidden; text-overflow: ellipsis; \" colspan=\"1\"><div style=\"text-align: left;border-bottom: solid 2px #000; padding-bottom: 5px\">pca_scores</div></td><td style=\"white-space: nowrap; max-width: 500px; overflow: hidden; text-overflow: ellipsis; \" colspan=\"1\"><div style=\"text-align: left;border-bottom: solid 2px #000; padding-bottom: 5px\">pop</div></td><td style=\"white-space: nowrap; max-width: 500px; overflow: hidden; text-overflow: ellipsis; \" colspan=\"1\"><div style=\"text-align: left;border-bottom: solid 2px #000; padding-bottom: 5px\">prob_afr</div></td><td style=\"white-space: nowrap; max-width: 500px; overflow: hidden; text-overflow: ellipsis; \" colspan=\"1\"><div style=\"text-align: left;border-bottom: solid 2px #000; padding-bottom: 5px\">prob_ami</div></td><td style=\"white-space: nowrap; max-width: 500px; overflow: hidden; text-overflow: ellipsis; \" colspan=\"1\"><div style=\"text-align: left;border-bottom: solid 2px #000; padding-bottom: 5px\">prob_amr</div></td><td style=\"white-space: nowrap; max-width: 500px; overflow: hidden; text-overflow: ellipsis; \" colspan=\"1\"><div style=\"text-align: left;border-bottom: solid 2px #000; padding-bottom: 5px\">prob_asj</div></td><td style=\"white-space: nowrap; max-width: 500px; overflow: hidden; text-overflow: ellipsis; \" colspan=\"1\"><div style=\"text-align: left;border-bottom: solid 2px #000; padding-bottom: 5px\">prob_eas</div></td><td style=\"white-space: nowrap; max-width: 500px; overflow: hidden; text-overflow: ellipsis; \" colspan=\"1\"><div style=\"text-align: left;border-bottom: solid 2px #000; padding-bottom: 5px\">prob_fin</div></td><td style=\"white-space: nowrap; max-width: 500px; overflow: hidden; text-overflow: ellipsis; \" colspan=\"1\"><div style=\"text-align: left;border-bottom: solid 2px #000; padding-bottom: 5px\">prob_mid</div></td><td style=\"white-space: nowrap; max-width: 500px; overflow: hidden; text-overflow: ellipsis; \" colspan=\"1\"><div style=\"text-align: left;border-bottom: solid 2px #000; padding-bottom: 5px\">prob_nfe</div></td><td style=\"white-space: nowrap; max-width: 500px; overflow: hidden; text-overflow: ellipsis; \" colspan=\"1\"><div style=\"text-align: left;border-bottom: solid 2px #000; padding-bottom: 5px\">prob_sas</div></td></tr><tr><td style=\"white-space: nowrap; max-width: 500px; overflow: hidden; text-overflow: ellipsis; text-align: left;\">str</td><td style=\"white-space: nowrap; max-width: 500px; overflow: hidden; text-overflow: ellipsis; text-align: left;\">array&lt;float64&gt;</td><td style=\"white-space: nowrap; max-width: 500px; overflow: hidden; text-overflow: ellipsis; text-align: left;\">str</td><td style=\"white-space: nowrap; max-width: 500px; overflow: hidden; text-overflow: ellipsis; text-align: left;\">float64</td><td style=\"white-space: nowrap; max-width: 500px; overflow: hidden; text-overflow: ellipsis; text-align: left;\">float64</td><td style=\"white-space: nowrap; max-width: 500px; overflow: hidden; text-overflow: ellipsis; text-align: left;\">float64</td><td style=\"white-space: nowrap; max-width: 500px; overflow: hidden; text-overflow: ellipsis; text-align: left;\">float64</td><td style=\"white-space: nowrap; max-width: 500px; overflow: hidden; text-overflow: ellipsis; text-align: left;\">float64</td><td style=\"white-space: nowrap; max-width: 500px; overflow: hidden; text-overflow: ellipsis; text-align: left;\">float64</td><td style=\"white-space: nowrap; max-width: 500px; overflow: hidden; text-overflow: ellipsis; text-align: left;\">float64</td><td style=\"white-space: nowrap; max-width: 500px; overflow: hidden; text-overflow: ellipsis; text-align: left;\">float64</td><td style=\"white-space: nowrap; max-width: 500px; overflow: hidden; text-overflow: ellipsis; text-align: left;\">float64</td></tr>\n",
       "</thead><tbody><tr><td style=\"white-space: nowrap; max-width: 500px; overflow: hidden; text-overflow: ellipsis; \">&quot;patient1_normal_1&quot;</td><td style=\"white-space: nowrap; max-width: 500px; overflow: hidden; text-overflow: ellipsis; \">[7.91e-03,2.08e-02,-8.13e-03,-3.65e-03,-9.32e-03,1.54e-03,-1.84e-02,1.92e-03,1.24e-03,2.45e-03,-6.42e-03,3.71e-04,-5.47e-04,6.31e-04,-1.34e-03,1.96e-03,-3.17e-03,1.16e-02,3.12e-03,-8.68e-03]</td><td style=\"white-space: nowrap; max-width: 500px; overflow: hidden; text-overflow: ellipsis; \">&quot;nfe&quot;</td><td style=\"white-space: nowrap; max-width: 500px; overflow: hidden; text-overflow: ellipsis; \">4.00e-02</td><td style=\"white-space: nowrap; max-width: 500px; overflow: hidden; text-overflow: ellipsis; \">1.00e-02</td><td style=\"white-space: nowrap; max-width: 500px; overflow: hidden; text-overflow: ellipsis; \">6.00e-02</td><td style=\"white-space: nowrap; max-width: 500px; overflow: hidden; text-overflow: ellipsis; \">1.20e-01</td><td style=\"white-space: nowrap; max-width: 500px; overflow: hidden; text-overflow: ellipsis; \">3.00e-02</td><td style=\"white-space: nowrap; max-width: 500px; overflow: hidden; text-overflow: ellipsis; \">2.00e-02</td><td style=\"white-space: nowrap; max-width: 500px; overflow: hidden; text-overflow: ellipsis; \">1.00e-02</td><td style=\"white-space: nowrap; max-width: 500px; overflow: hidden; text-overflow: ellipsis; \">6.90e-01</td><td style=\"white-space: nowrap; max-width: 500px; overflow: hidden; text-overflow: ellipsis; \">2.00e-02</td></tr>\n",
       "</tbody></table>"
      ],
      "text/plain": [
       "+---------------------+\n",
       "| s                   |\n",
       "+---------------------+\n",
       "| str                 |\n",
       "+---------------------+\n",
       "| \"patient1_normal_1\" |\n",
       "+---------------------+\n",
       "\n",
       "+------------------------------------------------------------------------------+\n",
       "| pca_scores                                                                   |\n",
       "+------------------------------------------------------------------------------+\n",
       "| array<float64>                                                               |\n",
       "+------------------------------------------------------------------------------+\n",
       "| [7.91e-03,2.08e-02,-8.13e-03,-3.65e-03,-9.32e-03,1.54e-03,-1.84e-02,1.92e... |\n",
       "+------------------------------------------------------------------------------+\n",
       "\n",
       "+-------+----------+----------+----------+----------+----------+----------+\n",
       "| pop   | prob_afr | prob_ami | prob_amr | prob_asj | prob_eas | prob_fin |\n",
       "+-------+----------+----------+----------+----------+----------+----------+\n",
       "| str   |  float64 |  float64 |  float64 |  float64 |  float64 |  float64 |\n",
       "+-------+----------+----------+----------+----------+----------+----------+\n",
       "| \"nfe\" | 4.00e-02 | 1.00e-02 | 6.00e-02 | 1.20e-01 | 3.00e-02 | 2.00e-02 |\n",
       "+-------+----------+----------+----------+----------+----------+----------+\n",
       "\n",
       "+----------+----------+----------+\n",
       "| prob_mid | prob_nfe | prob_sas |\n",
       "+----------+----------+----------+\n",
       "|  float64 |  float64 |  float64 |\n",
       "+----------+----------+----------+\n",
       "| 1.00e-02 | 6.90e-01 | 2.00e-02 |\n",
       "+----------+----------+----------+"
      ]
     },
     "metadata": {},
     "output_type": "display_data"
    }
   ],
   "source": [
    "ht.describe()\n",
    "ht.summarize()\n",
    "ht.show()"
   ]
  },
  {
   "cell_type": "code",
   "execution_count": null,
   "id": "449eae96",
   "metadata": {},
   "outputs": [
    {
     "data": {
      "text/html": [
       "\n",
       "  <div id=\"be7981f2-65f3-4338-9a83-dc0d419314f8\" data-root-id=\"p1050\" style=\"display: contents;\"></div>\n"
      ]
     },
     "metadata": {},
     "output_type": "display_data"
    },
    {
     "data": {
      "application/javascript": "(function(root) {\n  function embed_document(root) {\n  const docs_json = {\"11978c2a-a57a-4b44-83c8-8c3bb4651074\":{\"version\":\"3.4.3\",\"title\":\"Bokeh Application\",\"roots\":[{\"type\":\"object\",\"name\":\"Figure\",\"id\":\"p1050\",\"attributes\":{\"width\":800,\"height\":800,\"x_range\":{\"type\":\"object\",\"name\":\"DataRange1d\",\"id\":\"p1051\"},\"y_range\":{\"type\":\"object\",\"name\":\"DataRange1d\",\"id\":\"p1052\"},\"x_scale\":{\"type\":\"object\",\"name\":\"LinearScale\",\"id\":\"p1060\"},\"y_scale\":{\"type\":\"object\",\"name\":\"LinearScale\",\"id\":\"p1061\"},\"title\":{\"type\":\"object\",\"name\":\"Title\",\"id\":\"p1053\",\"attributes\":{\"text\":\"PCA\"}},\"renderers\":[{\"type\":\"object\",\"name\":\"GlyphRenderer\",\"id\":\"p1098\",\"attributes\":{\"data_source\":{\"type\":\"object\",\"name\":\"ColumnDataSource\",\"id\":\"p1084\",\"attributes\":{\"selected\":{\"type\":\"object\",\"name\":\"Selection\",\"id\":\"p1085\",\"attributes\":{\"indices\":[],\"line_indices\":[]}},\"selection_policy\":{\"type\":\"object\",\"name\":\"UnionRenderers\",\"id\":\"p1086\"},\"data\":{\"type\":\"map\",\"entries\":[[\"index\",{\"type\":\"ndarray\",\"array\":{\"type\":\"bytes\",\"data\":\"AAAAAA==\"},\"shape\":[1],\"dtype\":\"int32\",\"order\":\"little\"}],[\"label\",{\"type\":\"ndarray\",\"array\":[\"nfe\"],\"shape\":[1],\"dtype\":\"object\",\"order\":\"little\"}],[\"x\",{\"type\":\"ndarray\",\"array\":{\"type\":\"bytes\",\"data\":\"Gb8Q/3wxgD8=\"},\"shape\":[1],\"dtype\":\"float64\",\"order\":\"little\"}],[\"y\",{\"type\":\"ndarray\",\"array\":{\"type\":\"bytes\",\"data\":\"u6dOlKhZlT8=\"},\"shape\":[1],\"dtype\":\"float64\",\"order\":\"little\"}]]}}},\"view\":{\"type\":\"object\",\"name\":\"CDSView\",\"id\":\"p1090\",\"attributes\":{\"filter\":{\"type\":\"object\",\"name\":\"IntersectionFilter\",\"id\":\"p1089\",\"attributes\":{\"operands\":[{\"type\":\"object\",\"name\":\"GroupFilter\",\"id\":\"p1088\",\"attributes\":{\"column_name\":\"label\",\"group\":\"nfe\"}}]}}}},\"glyph\":{\"type\":\"object\",\"name\":\"Scatter\",\"id\":\"p1095\",\"attributes\":{\"x\":{\"type\":\"field\",\"field\":\"x\"},\"y\":{\"type\":\"field\",\"field\":\"y\"},\"line_color\":{\"type\":\"field\",\"field\":\"label\",\"transform\":{\"type\":\"object\",\"name\":\"CategoricalColorMapper\",\"id\":\"p1087\",\"attributes\":{\"palette\":[\"#1f77b4\",\"#ff7f0e\",\"#2ca02c\",\"#d62728\",\"#9467bd\",\"#8c564b\",\"#e377c2\",\"#7f7f7f\",\"#bcbd22\",\"#17becf\"],\"factors\":[\"nfe\"]}}},\"fill_color\":{\"type\":\"field\",\"field\":\"label\",\"transform\":{\"id\":\"p1087\"}},\"hatch_color\":{\"type\":\"field\",\"field\":\"label\",\"transform\":{\"id\":\"p1087\"}}}},\"nonselection_glyph\":{\"type\":\"object\",\"name\":\"Scatter\",\"id\":\"p1096\",\"attributes\":{\"x\":{\"type\":\"field\",\"field\":\"x\"},\"y\":{\"type\":\"field\",\"field\":\"y\"},\"line_color\":{\"type\":\"field\",\"field\":\"label\",\"transform\":{\"id\":\"p1087\"}},\"line_alpha\":{\"type\":\"value\",\"value\":0.1},\"fill_color\":{\"type\":\"field\",\"field\":\"label\",\"transform\":{\"id\":\"p1087\"}},\"fill_alpha\":{\"type\":\"value\",\"value\":0.1},\"hatch_color\":{\"type\":\"field\",\"field\":\"label\",\"transform\":{\"id\":\"p1087\"}},\"hatch_alpha\":{\"type\":\"value\",\"value\":0.1}}},\"muted_glyph\":{\"type\":\"object\",\"name\":\"Scatter\",\"id\":\"p1097\",\"attributes\":{\"x\":{\"type\":\"field\",\"field\":\"x\"},\"y\":{\"type\":\"field\",\"field\":\"y\"},\"line_color\":{\"type\":\"field\",\"field\":\"label\",\"transform\":{\"id\":\"p1087\"}},\"line_alpha\":{\"type\":\"value\",\"value\":0.2},\"fill_color\":{\"type\":\"field\",\"field\":\"label\",\"transform\":{\"id\":\"p1087\"}},\"fill_alpha\":{\"type\":\"value\",\"value\":0.2},\"hatch_color\":{\"type\":\"field\",\"field\":\"label\",\"transform\":{\"id\":\"p1087\"}},\"hatch_alpha\":{\"type\":\"value\",\"value\":0.2}}}}}],\"toolbar\":{\"type\":\"object\",\"name\":\"Toolbar\",\"id\":\"p1059\",\"attributes\":{\"tools\":[{\"type\":\"object\",\"name\":\"PanTool\",\"id\":\"p1072\"},{\"type\":\"object\",\"name\":\"WheelZoomTool\",\"id\":\"p1073\",\"attributes\":{\"renderers\":\"auto\"}},{\"type\":\"object\",\"name\":\"BoxZoomTool\",\"id\":\"p1074\",\"attributes\":{\"overlay\":{\"type\":\"object\",\"name\":\"BoxAnnotation\",\"id\":\"p1075\",\"attributes\":{\"syncable\":false,\"level\":\"overlay\",\"visible\":false,\"left\":{\"type\":\"number\",\"value\":\"nan\"},\"right\":{\"type\":\"number\",\"value\":\"nan\"},\"top\":{\"type\":\"number\",\"value\":\"nan\"},\"bottom\":{\"type\":\"number\",\"value\":\"nan\"},\"left_units\":\"canvas\",\"right_units\":\"canvas\",\"top_units\":\"canvas\",\"bottom_units\":\"canvas\",\"line_color\":\"black\",\"line_alpha\":1.0,\"line_width\":2,\"line_dash\":[4,4],\"fill_color\":\"lightgrey\",\"fill_alpha\":0.5}}}},{\"type\":\"object\",\"name\":\"SaveTool\",\"id\":\"p1080\"},{\"type\":\"object\",\"name\":\"ResetTool\",\"id\":\"p1081\"},{\"type\":\"object\",\"name\":\"HelpTool\",\"id\":\"p1082\"},{\"type\":\"object\",\"name\":\"HoverTool\",\"id\":\"p1083\",\"attributes\":{\"renderers\":\"auto\",\"tooltips\":[[\"x\",\"@x\"],[\"y\",\"@y\"]]}}]}},\"left\":[{\"type\":\"object\",\"name\":\"LinearAxis\",\"id\":\"p1067\",\"attributes\":{\"ticker\":{\"type\":\"object\",\"name\":\"BasicTicker\",\"id\":\"p1068\",\"attributes\":{\"mantissas\":[1,2,5]}},\"formatter\":{\"type\":\"object\",\"name\":\"BasicTickFormatter\",\"id\":\"p1069\"},\"axis_label\":\"PC2\",\"major_label_policy\":{\"type\":\"object\",\"name\":\"AllLabels\",\"id\":\"p1070\"}}},{\"type\":\"object\",\"name\":\"Legend\",\"id\":\"p1102\",\"attributes\":{\"click_policy\":\"hide\",\"items\":[{\"type\":\"object\",\"name\":\"LegendItem\",\"id\":\"p1101\",\"attributes\":{\"label\":{\"type\":\"value\",\"value\":\"nfe\"},\"renderers\":[{\"id\":\"p1098\"}]}}]}},{\"type\":\"object\",\"name\":\"ColorBar\",\"id\":\"p1103\",\"attributes\":{\"visible\":false,\"major_label_policy\":{\"type\":\"object\",\"name\":\"NoOverlap\",\"id\":\"p1104\"},\"color_mapper\":{\"id\":\"p1087\"}}}],\"below\":[{\"type\":\"object\",\"name\":\"LinearAxis\",\"id\":\"p1062\",\"attributes\":{\"ticker\":{\"type\":\"object\",\"name\":\"BasicTicker\",\"id\":\"p1063\",\"attributes\":{\"mantissas\":[1,2,5]}},\"formatter\":{\"type\":\"object\",\"name\":\"BasicTickFormatter\",\"id\":\"p1064\"},\"axis_label\":\"PC1\",\"major_label_policy\":{\"type\":\"object\",\"name\":\"AllLabels\",\"id\":\"p1065\"}}}],\"center\":[{\"type\":\"object\",\"name\":\"Grid\",\"id\":\"p1066\",\"attributes\":{\"axis\":{\"id\":\"p1062\"}}},{\"type\":\"object\",\"name\":\"Grid\",\"id\":\"p1071\",\"attributes\":{\"dimension\":1,\"axis\":{\"id\":\"p1067\"}}}]}}]}};\n  const render_items = [{\"docid\":\"11978c2a-a57a-4b44-83c8-8c3bb4651074\",\"roots\":{\"p1050\":\"be7981f2-65f3-4338-9a83-dc0d419314f8\"},\"root_ids\":[\"p1050\"]}];\n  void root.Bokeh.embed.embed_items_notebook(docs_json, render_items);\n  }\n  if (root.Bokeh !== undefined) {\n    embed_document(root);\n  } else {\n    let attempts = 0;\n    const timer = setInterval(function(root) {\n      if (root.Bokeh !== undefined) {\n        clearInterval(timer);\n        embed_document(root);\n      } else {\n        attempts++;\n        if (attempts > 100) {\n          clearInterval(timer);\n          console.log(\"Bokeh: ERROR: Unable to run BokehJS code because BokehJS library is missing\");\n        }\n      }\n    }, 10, root)\n  }\n})(window);",
      "application/vnd.bokehjs_exec.v0+json": ""
     },
     "metadata": {
      "application/vnd.bokehjs_exec.v0+json": {
       "id": "p1050"
      }
     },
     "output_type": "display_data"
    }
   ],
   "source": [
    "from bokeh.io import show\n",
    "\n",
    "# Extract the first two PCs and population labels\n",
    "# Plot results for population assignment in pca\n",
    "p = hl.plot.scatter(ht.pca_scores[0], ht.pca_scores[1],\n",
    "                    label=ht.pop,\n",
    "                    title='PCA', xlabel='PC1', ylabel='PC2',\n",
    "                    n_divisions=None)\n",
    "show(p)\n"
   ]
  }
 ],
 "metadata": {
  "kernelspec": {
   "display_name": "spark",
   "language": "python",
   "name": "python3"
  },
  "language_info": {
   "codemirror_mode": {
    "name": "ipython",
    "version": 3
   },
   "file_extension": ".py",
   "mimetype": "text/x-python",
   "name": "python",
   "nbconvert_exporter": "python",
   "pygments_lexer": "ipython3",
   "version": "3.9.21"
  }
 },
 "nbformat": 4,
 "nbformat_minor": 5
}
